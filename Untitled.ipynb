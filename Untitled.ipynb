{
 "cells": [
  {
   "cell_type": "code",
   "execution_count": 74,
   "id": "7cafc1ff-fad7-43d9-b896-395cae83e008",
   "metadata": {},
   "outputs": [
    {
     "name": "stdin",
     "output_type": "stream",
     "text": [
      " aeroplane\n"
     ]
    },
    {
     "data": {
      "text/plain": [
       "3"
      ]
     },
     "execution_count": 74,
     "metadata": {},
     "output_type": "execute_result"
    }
   ],
   "source": [
    "class Solution:\n",
    "    def longestPalindromeSubseq(self, s):\n",
    "        def dp(i, j):\n",
    "            if i>j:\n",
    "                return 0\n",
    "            if i==j:\n",
    "                return 1\n",
    "            if s[i]==s[j]:\n",
    "                return 2+ dp(i+1,j-1)\n",
    "            return max(dp(i+1,j),dp(i,j-1))\n",
    "        return dp(0, len(s) - 1)\n",
    "s = input()\n",
    "Solution().longestPalindromeSubseq(s)\n"
   ]
  },
  {
   "cell_type": "code",
   "execution_count": null,
   "id": "9bde1746-a213-42d8-88c1-6085108131c0",
   "metadata": {},
   "outputs": [],
   "source": []
  },
  {
   "cell_type": "code",
   "execution_count": null,
   "id": "b37e64d2-5c8b-4950-909d-a89f6589ecb1",
   "metadata": {},
   "outputs": [],
   "source": []
  }
 ],
 "metadata": {
  "kernelspec": {
   "display_name": "Python 3 (ipykernel)",
   "language": "python",
   "name": "python3"
  },
  "language_info": {
   "codemirror_mode": {
    "name": "ipython",
    "version": 3
   },
   "file_extension": ".py",
   "mimetype": "text/x-python",
   "name": "python",
   "nbconvert_exporter": "python",
   "pygments_lexer": "ipython3",
   "version": "3.12.4"
  }
 },
 "nbformat": 4,
 "nbformat_minor": 5
}
